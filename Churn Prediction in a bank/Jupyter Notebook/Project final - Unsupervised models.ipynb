{
 "cells": [
  {
   "cell_type": "markdown",
   "id": "d18641b0",
   "metadata": {},
   "source": [
    "## UNSUPERVISED LEARNING MODELS"
   ]
  },
  {
   "cell_type": "markdown",
   "id": "1bd69c32",
   "metadata": {},
   "source": [
    "# Import the Librairies"
   ]
  },
  {
   "cell_type": "code",
   "execution_count": 1,
   "id": "d3a2a327",
   "metadata": {},
   "outputs": [],
   "source": [
    "%matplotlib inline\n",
    "import matplotlib.pyplot as plt\n",
    "import seaborn as sns\n",
    "import numpy as np\n",
    "import pandas as pd\n",
    "from sklearn.cluster import KMeans\n",
    "from sklearn.preprocessing import StandardScaler\n",
    "from yellowbrick.cluster import KElbowVisualizer\n",
    "from sklearn.cluster import DBSCAN\n",
    "from sklearn.metrics import silhouette_score\n",
    "import warnings\n",
    "warnings.filterwarnings('ignore')"
   ]
  },
  {
   "cell_type": "markdown",
   "id": "69f3bc24",
   "metadata": {},
   "source": [
    "# Import the data"
   ]
  },
  {
   "cell_type": "code",
   "execution_count": 2,
   "id": "0cae0d76",
   "metadata": {},
   "outputs": [
    {
     "data": {
      "text/html": [
       "<div>\n",
       "<style scoped>\n",
       "    .dataframe tbody tr th:only-of-type {\n",
       "        vertical-align: middle;\n",
       "    }\n",
       "\n",
       "    .dataframe tbody tr th {\n",
       "        vertical-align: top;\n",
       "    }\n",
       "\n",
       "    .dataframe thead th {\n",
       "        text-align: right;\n",
       "    }\n",
       "</style>\n",
       "<table border=\"1\" class=\"dataframe\">\n",
       "  <thead>\n",
       "    <tr style=\"text-align: right;\">\n",
       "      <th></th>\n",
       "      <th>CreditScore</th>\n",
       "      <th>Geography</th>\n",
       "      <th>Gender</th>\n",
       "      <th>Age</th>\n",
       "      <th>Tenure</th>\n",
       "      <th>Balance</th>\n",
       "      <th>NumOfProducts</th>\n",
       "      <th>HasCrCard</th>\n",
       "      <th>IsActiveMember</th>\n",
       "      <th>EstimatedSalary</th>\n",
       "      <th>Target</th>\n",
       "    </tr>\n",
       "  </thead>\n",
       "  <tbody>\n",
       "    <tr>\n",
       "      <th>0</th>\n",
       "      <td>724</td>\n",
       "      <td>0</td>\n",
       "      <td>0</td>\n",
       "      <td>33</td>\n",
       "      <td>3</td>\n",
       "      <td>77299.370000</td>\n",
       "      <td>1</td>\n",
       "      <td>0</td>\n",
       "      <td>0</td>\n",
       "      <td>174433.518000</td>\n",
       "      <td>0</td>\n",
       "    </tr>\n",
       "    <tr>\n",
       "      <th>1</th>\n",
       "      <td>801</td>\n",
       "      <td>0</td>\n",
       "      <td>0</td>\n",
       "      <td>32</td>\n",
       "      <td>4</td>\n",
       "      <td>75170.540000</td>\n",
       "      <td>1</td>\n",
       "      <td>1</td>\n",
       "      <td>1</td>\n",
       "      <td>37898.500000</td>\n",
       "      <td>0</td>\n",
       "    </tr>\n",
       "    <tr>\n",
       "      <th>2</th>\n",
       "      <td>616</td>\n",
       "      <td>0</td>\n",
       "      <td>0</td>\n",
       "      <td>36</td>\n",
       "      <td>5</td>\n",
       "      <td>0.000000</td>\n",
       "      <td>1</td>\n",
       "      <td>0</td>\n",
       "      <td>0</td>\n",
       "      <td>139714.081429</td>\n",
       "      <td>0</td>\n",
       "    </tr>\n",
       "    <tr>\n",
       "      <th>3</th>\n",
       "      <td>570</td>\n",
       "      <td>1</td>\n",
       "      <td>0</td>\n",
       "      <td>36</td>\n",
       "      <td>5</td>\n",
       "      <td>142111.666667</td>\n",
       "      <td>2</td>\n",
       "      <td>1</td>\n",
       "      <td>1</td>\n",
       "      <td>110629.520000</td>\n",
       "      <td>0</td>\n",
       "    </tr>\n",
       "    <tr>\n",
       "      <th>4</th>\n",
       "      <td>632</td>\n",
       "      <td>0</td>\n",
       "      <td>0</td>\n",
       "      <td>36</td>\n",
       "      <td>6</td>\n",
       "      <td>0.000000</td>\n",
       "      <td>1</td>\n",
       "      <td>0</td>\n",
       "      <td>0</td>\n",
       "      <td>74353.966154</td>\n",
       "      <td>0</td>\n",
       "    </tr>\n",
       "  </tbody>\n",
       "</table>\n",
       "</div>"
      ],
      "text/plain": [
       "   CreditScore  Geography  Gender  Age  Tenure        Balance  NumOfProducts  \\\n",
       "0          724          0       0   33       3   77299.370000              1   \n",
       "1          801          0       0   32       4   75170.540000              1   \n",
       "2          616          0       0   36       5       0.000000              1   \n",
       "3          570          1       0   36       5  142111.666667              2   \n",
       "4          632          0       0   36       6       0.000000              1   \n",
       "\n",
       "   HasCrCard  IsActiveMember  EstimatedSalary  Target  \n",
       "0          0               0    174433.518000       0  \n",
       "1          1               1     37898.500000       0  \n",
       "2          0               0    139714.081429       0  \n",
       "3          1               1    110629.520000       0  \n",
       "4          0               0     74353.966154       0  "
      ]
     },
     "execution_count": 2,
     "metadata": {},
     "output_type": "execute_result"
    }
   ],
   "source": [
    "data = pd.read_csv(r'C:\\Users\\Ingrid\\Desktop\\DAFT Nov 21\\Projects\\Final project\\churn_encoded.csv')\n",
    "data.head()"
   ]
  },
  {
   "cell_type": "code",
   "execution_count": 3,
   "id": "a7e25e54",
   "metadata": {},
   "outputs": [
    {
     "data": {
      "text/plain": [
       "(4072, 11)"
      ]
     },
     "execution_count": 3,
     "metadata": {},
     "output_type": "execute_result"
    }
   ],
   "source": [
    "data.shape"
   ]
  },
  {
   "cell_type": "code",
   "execution_count": 4,
   "id": "8e9c65a3",
   "metadata": {},
   "outputs": [
    {
     "data": {
      "text/plain": [
       "CreditScore          int64\n",
       "Geography            int64\n",
       "Gender               int64\n",
       "Age                  int64\n",
       "Tenure               int64\n",
       "Balance            float64\n",
       "NumOfProducts        int64\n",
       "HasCrCard            int64\n",
       "IsActiveMember       int64\n",
       "EstimatedSalary    float64\n",
       "Target               int64\n",
       "dtype: object"
      ]
     },
     "execution_count": 4,
     "metadata": {},
     "output_type": "execute_result"
    }
   ],
   "source": [
    "data.dtypes"
   ]
  },
  {
   "cell_type": "markdown",
   "id": "5bb5d3ef",
   "metadata": {},
   "source": [
    "# Goal: Cluster different customers of the bank"
   ]
  },
  {
   "cell_type": "markdown",
   "id": "f28dabad",
   "metadata": {},
   "source": [
    "#### We will use the StandardScaler from sklearn.preprocessing and scale our data. After scaling the data, we will assign the transformed data to a new variable customers_scale."
   ]
  },
  {
   "cell_type": "code",
   "execution_count": 5,
   "id": "7d88eaf6",
   "metadata": {},
   "outputs": [],
   "source": [
    "customers_scale = StandardScaler().fit_transform(data)"
   ]
  },
  {
   "cell_type": "code",
   "execution_count": 6,
   "id": "e2ce958e",
   "metadata": {},
   "outputs": [],
   "source": [
    "customers_scale =pd.DataFrame(customers_scale, columns=data.columns)"
   ]
  },
  {
   "cell_type": "code",
   "execution_count": 7,
   "id": "cb2b7c09",
   "metadata": {},
   "outputs": [
    {
     "data": {
      "text/html": [
       "<div>\n",
       "<style scoped>\n",
       "    .dataframe tbody tr th:only-of-type {\n",
       "        vertical-align: middle;\n",
       "    }\n",
       "\n",
       "    .dataframe tbody tr th {\n",
       "        vertical-align: top;\n",
       "    }\n",
       "\n",
       "    .dataframe thead th {\n",
       "        text-align: right;\n",
       "    }\n",
       "</style>\n",
       "<table border=\"1\" class=\"dataframe\">\n",
       "  <thead>\n",
       "    <tr style=\"text-align: right;\">\n",
       "      <th></th>\n",
       "      <th>CreditScore</th>\n",
       "      <th>Geography</th>\n",
       "      <th>Gender</th>\n",
       "      <th>Age</th>\n",
       "      <th>Tenure</th>\n",
       "      <th>Balance</th>\n",
       "      <th>NumOfProducts</th>\n",
       "      <th>HasCrCard</th>\n",
       "      <th>IsActiveMember</th>\n",
       "      <th>EstimatedSalary</th>\n",
       "      <th>Target</th>\n",
       "    </tr>\n",
       "  </thead>\n",
       "  <tbody>\n",
       "    <tr>\n",
       "      <th>0</th>\n",
       "      <td>0.873430</td>\n",
       "      <td>-0.919066</td>\n",
       "      <td>-0.757242</td>\n",
       "      <td>-0.864981</td>\n",
       "      <td>-0.724380</td>\n",
       "      <td>-0.434878</td>\n",
       "      <td>-0.476924</td>\n",
       "      <td>-1.115135</td>\n",
       "      <td>-0.678635</td>\n",
       "      <td>1.279125</td>\n",
       "      <td>-0.999509</td>\n",
       "    </tr>\n",
       "    <tr>\n",
       "      <th>1</th>\n",
       "      <td>1.774153</td>\n",
       "      <td>-0.919066</td>\n",
       "      <td>-0.757242</td>\n",
       "      <td>-0.971772</td>\n",
       "      <td>-0.327918</td>\n",
       "      <td>-0.474502</td>\n",
       "      <td>-0.476924</td>\n",
       "      <td>0.896752</td>\n",
       "      <td>1.473547</td>\n",
       "      <td>-1.083625</td>\n",
       "      <td>-0.999509</td>\n",
       "    </tr>\n",
       "    <tr>\n",
       "      <th>2</th>\n",
       "      <td>-0.389923</td>\n",
       "      <td>-0.919066</td>\n",
       "      <td>-0.757242</td>\n",
       "      <td>-0.544606</td>\n",
       "      <td>0.068543</td>\n",
       "      <td>-1.873634</td>\n",
       "      <td>-0.476924</td>\n",
       "      <td>-1.115135</td>\n",
       "      <td>-0.678635</td>\n",
       "      <td>0.678303</td>\n",
       "      <td>-0.999509</td>\n",
       "    </tr>\n",
       "    <tr>\n",
       "      <th>3</th>\n",
       "      <td>-0.928017</td>\n",
       "      <td>0.504997</td>\n",
       "      <td>-0.757242</td>\n",
       "      <td>-0.544606</td>\n",
       "      <td>0.068543</td>\n",
       "      <td>0.771459</td>\n",
       "      <td>1.087972</td>\n",
       "      <td>0.896752</td>\n",
       "      <td>1.473547</td>\n",
       "      <td>0.174992</td>\n",
       "      <td>-0.999509</td>\n",
       "    </tr>\n",
       "    <tr>\n",
       "      <th>4</th>\n",
       "      <td>-0.202759</td>\n",
       "      <td>-0.919066</td>\n",
       "      <td>-0.757242</td>\n",
       "      <td>-0.544606</td>\n",
       "      <td>0.465005</td>\n",
       "      <td>-1.873634</td>\n",
       "      <td>-0.476924</td>\n",
       "      <td>-1.115135</td>\n",
       "      <td>-0.678635</td>\n",
       "      <td>-0.452760</td>\n",
       "      <td>-0.999509</td>\n",
       "    </tr>\n",
       "  </tbody>\n",
       "</table>\n",
       "</div>"
      ],
      "text/plain": [
       "   CreditScore  Geography    Gender       Age    Tenure   Balance  \\\n",
       "0     0.873430  -0.919066 -0.757242 -0.864981 -0.724380 -0.434878   \n",
       "1     1.774153  -0.919066 -0.757242 -0.971772 -0.327918 -0.474502   \n",
       "2    -0.389923  -0.919066 -0.757242 -0.544606  0.068543 -1.873634   \n",
       "3    -0.928017   0.504997 -0.757242 -0.544606  0.068543  0.771459   \n",
       "4    -0.202759  -0.919066 -0.757242 -0.544606  0.465005 -1.873634   \n",
       "\n",
       "   NumOfProducts  HasCrCard  IsActiveMember  EstimatedSalary    Target  \n",
       "0      -0.476924  -1.115135       -0.678635         1.279125 -0.999509  \n",
       "1      -0.476924   0.896752        1.473547        -1.083625 -0.999509  \n",
       "2      -0.476924  -1.115135       -0.678635         0.678303 -0.999509  \n",
       "3       1.087972   0.896752        1.473547         0.174992 -0.999509  \n",
       "4      -0.476924  -1.115135       -0.678635        -0.452760 -0.999509  "
      ]
     },
     "execution_count": 7,
     "metadata": {},
     "output_type": "execute_result"
    }
   ],
   "source": [
    "customers_scale.head()"
   ]
  },
  {
   "cell_type": "code",
   "execution_count": 8,
   "id": "2ef8ad27",
   "metadata": {},
   "outputs": [
    {
     "data": {
      "text/plain": [
       "Index(['CreditScore', 'Geography', 'Gender', 'Age', 'Tenure', 'Balance',\n",
       "       'NumOfProducts', 'HasCrCard', 'IsActiveMember', 'EstimatedSalary',\n",
       "       'Target'],\n",
       "      dtype='object')"
      ]
     },
     "execution_count": 8,
     "metadata": {},
     "output_type": "execute_result"
    }
   ],
   "source": [
    "customers_scale.columns"
   ]
  },
  {
   "cell_type": "code",
   "execution_count": 9,
   "id": "b3f7133a",
   "metadata": {},
   "outputs": [
    {
     "data": {
      "text/plain": [
       "(4072, 11)"
      ]
     },
     "execution_count": 9,
     "metadata": {},
     "output_type": "execute_result"
    }
   ],
   "source": [
    "customers_scale.shape"
   ]
  },
  {
   "cell_type": "markdown",
   "id": "d7048c73",
   "metadata": {},
   "source": [
    "# KMeans"
   ]
  },
  {
   "cell_type": "markdown",
   "id": "2f8ec60a",
   "metadata": {},
   "source": [
    "#### We define X and y:"
   ]
  },
  {
   "cell_type": "code",
   "execution_count": 11,
   "id": "7d4569e1",
   "metadata": {},
   "outputs": [],
   "source": [
    "y = customers_scale['Target']\n",
    "X = customers_scale.drop(columns = 'Target')\n"
   ]
  },
  {
   "cell_type": "code",
   "execution_count": 12,
   "id": "aa694fd7",
   "metadata": {},
   "outputs": [
    {
     "data": {
      "text/html": [
       "<div>\n",
       "<style scoped>\n",
       "    .dataframe tbody tr th:only-of-type {\n",
       "        vertical-align: middle;\n",
       "    }\n",
       "\n",
       "    .dataframe tbody tr th {\n",
       "        vertical-align: top;\n",
       "    }\n",
       "\n",
       "    .dataframe thead th {\n",
       "        text-align: right;\n",
       "    }\n",
       "</style>\n",
       "<table border=\"1\" class=\"dataframe\">\n",
       "  <thead>\n",
       "    <tr style=\"text-align: right;\">\n",
       "      <th></th>\n",
       "      <th>CreditScore</th>\n",
       "      <th>Geography</th>\n",
       "      <th>Gender</th>\n",
       "      <th>Age</th>\n",
       "      <th>Tenure</th>\n",
       "      <th>Balance</th>\n",
       "      <th>NumOfProducts</th>\n",
       "      <th>HasCrCard</th>\n",
       "      <th>IsActiveMember</th>\n",
       "      <th>EstimatedSalary</th>\n",
       "    </tr>\n",
       "  </thead>\n",
       "  <tbody>\n",
       "    <tr>\n",
       "      <th>0</th>\n",
       "      <td>0.873430</td>\n",
       "      <td>-0.919066</td>\n",
       "      <td>-0.757242</td>\n",
       "      <td>-0.864981</td>\n",
       "      <td>-0.724380</td>\n",
       "      <td>-0.434878</td>\n",
       "      <td>-0.476924</td>\n",
       "      <td>-1.115135</td>\n",
       "      <td>-0.678635</td>\n",
       "      <td>1.279125</td>\n",
       "    </tr>\n",
       "    <tr>\n",
       "      <th>1</th>\n",
       "      <td>1.774153</td>\n",
       "      <td>-0.919066</td>\n",
       "      <td>-0.757242</td>\n",
       "      <td>-0.971772</td>\n",
       "      <td>-0.327918</td>\n",
       "      <td>-0.474502</td>\n",
       "      <td>-0.476924</td>\n",
       "      <td>0.896752</td>\n",
       "      <td>1.473547</td>\n",
       "      <td>-1.083625</td>\n",
       "    </tr>\n",
       "    <tr>\n",
       "      <th>2</th>\n",
       "      <td>-0.389923</td>\n",
       "      <td>-0.919066</td>\n",
       "      <td>-0.757242</td>\n",
       "      <td>-0.544606</td>\n",
       "      <td>0.068543</td>\n",
       "      <td>-1.873634</td>\n",
       "      <td>-0.476924</td>\n",
       "      <td>-1.115135</td>\n",
       "      <td>-0.678635</td>\n",
       "      <td>0.678303</td>\n",
       "    </tr>\n",
       "    <tr>\n",
       "      <th>3</th>\n",
       "      <td>-0.928017</td>\n",
       "      <td>0.504997</td>\n",
       "      <td>-0.757242</td>\n",
       "      <td>-0.544606</td>\n",
       "      <td>0.068543</td>\n",
       "      <td>0.771459</td>\n",
       "      <td>1.087972</td>\n",
       "      <td>0.896752</td>\n",
       "      <td>1.473547</td>\n",
       "      <td>0.174992</td>\n",
       "    </tr>\n",
       "    <tr>\n",
       "      <th>4</th>\n",
       "      <td>-0.202759</td>\n",
       "      <td>-0.919066</td>\n",
       "      <td>-0.757242</td>\n",
       "      <td>-0.544606</td>\n",
       "      <td>0.465005</td>\n",
       "      <td>-1.873634</td>\n",
       "      <td>-0.476924</td>\n",
       "      <td>-1.115135</td>\n",
       "      <td>-0.678635</td>\n",
       "      <td>-0.452760</td>\n",
       "    </tr>\n",
       "    <tr>\n",
       "      <th>...</th>\n",
       "      <td>...</td>\n",
       "      <td>...</td>\n",
       "      <td>...</td>\n",
       "      <td>...</td>\n",
       "      <td>...</td>\n",
       "      <td>...</td>\n",
       "      <td>...</td>\n",
       "      <td>...</td>\n",
       "      <td>...</td>\n",
       "      <td>...</td>\n",
       "    </tr>\n",
       "    <tr>\n",
       "      <th>4067</th>\n",
       "      <td>-1.770252</td>\n",
       "      <td>0.504997</td>\n",
       "      <td>1.320581</td>\n",
       "      <td>0.096144</td>\n",
       "      <td>-0.724380</td>\n",
       "      <td>0.956247</td>\n",
       "      <td>-0.476924</td>\n",
       "      <td>0.896752</td>\n",
       "      <td>1.473547</td>\n",
       "      <td>-0.814588</td>\n",
       "    </tr>\n",
       "    <tr>\n",
       "      <th>4068</th>\n",
       "      <td>0.066288</td>\n",
       "      <td>0.504997</td>\n",
       "      <td>-0.757242</td>\n",
       "      <td>0.523310</td>\n",
       "      <td>0.861467</td>\n",
       "      <td>0.679018</td>\n",
       "      <td>-0.476924</td>\n",
       "      <td>0.896752</td>\n",
       "      <td>-0.678635</td>\n",
       "      <td>0.253157</td>\n",
       "    </tr>\n",
       "    <tr>\n",
       "      <th>4069</th>\n",
       "      <td>-0.612179</td>\n",
       "      <td>-0.919066</td>\n",
       "      <td>-0.757242</td>\n",
       "      <td>1.270852</td>\n",
       "      <td>-0.327918</td>\n",
       "      <td>-0.228614</td>\n",
       "      <td>-0.476924</td>\n",
       "      <td>0.896752</td>\n",
       "      <td>-0.678635</td>\n",
       "      <td>-0.538753</td>\n",
       "    </tr>\n",
       "    <tr>\n",
       "      <th>4070</th>\n",
       "      <td>0.697964</td>\n",
       "      <td>-0.919066</td>\n",
       "      <td>-0.757242</td>\n",
       "      <td>-0.544606</td>\n",
       "      <td>0.861467</td>\n",
       "      <td>-1.873634</td>\n",
       "      <td>-0.476924</td>\n",
       "      <td>-1.115135</td>\n",
       "      <td>1.473547</td>\n",
       "      <td>-1.011167</td>\n",
       "    </tr>\n",
       "    <tr>\n",
       "      <th>4071</th>\n",
       "      <td>1.434920</td>\n",
       "      <td>0.504997</td>\n",
       "      <td>1.320581</td>\n",
       "      <td>0.096144</td>\n",
       "      <td>-0.724380</td>\n",
       "      <td>-0.476274</td>\n",
       "      <td>1.087972</td>\n",
       "      <td>0.896752</td>\n",
       "      <td>-0.678635</td>\n",
       "      <td>-0.132018</td>\n",
       "    </tr>\n",
       "  </tbody>\n",
       "</table>\n",
       "<p>4072 rows × 10 columns</p>\n",
       "</div>"
      ],
      "text/plain": [
       "      CreditScore  Geography    Gender       Age    Tenure   Balance  \\\n",
       "0        0.873430  -0.919066 -0.757242 -0.864981 -0.724380 -0.434878   \n",
       "1        1.774153  -0.919066 -0.757242 -0.971772 -0.327918 -0.474502   \n",
       "2       -0.389923  -0.919066 -0.757242 -0.544606  0.068543 -1.873634   \n",
       "3       -0.928017   0.504997 -0.757242 -0.544606  0.068543  0.771459   \n",
       "4       -0.202759  -0.919066 -0.757242 -0.544606  0.465005 -1.873634   \n",
       "...           ...        ...       ...       ...       ...       ...   \n",
       "4067    -1.770252   0.504997  1.320581  0.096144 -0.724380  0.956247   \n",
       "4068     0.066288   0.504997 -0.757242  0.523310  0.861467  0.679018   \n",
       "4069    -0.612179  -0.919066 -0.757242  1.270852 -0.327918 -0.228614   \n",
       "4070     0.697964  -0.919066 -0.757242 -0.544606  0.861467 -1.873634   \n",
       "4071     1.434920   0.504997  1.320581  0.096144 -0.724380 -0.476274   \n",
       "\n",
       "      NumOfProducts  HasCrCard  IsActiveMember  EstimatedSalary  \n",
       "0         -0.476924  -1.115135       -0.678635         1.279125  \n",
       "1         -0.476924   0.896752        1.473547        -1.083625  \n",
       "2         -0.476924  -1.115135       -0.678635         0.678303  \n",
       "3          1.087972   0.896752        1.473547         0.174992  \n",
       "4         -0.476924  -1.115135       -0.678635        -0.452760  \n",
       "...             ...        ...             ...              ...  \n",
       "4067      -0.476924   0.896752        1.473547        -0.814588  \n",
       "4068      -0.476924   0.896752       -0.678635         0.253157  \n",
       "4069      -0.476924   0.896752       -0.678635        -0.538753  \n",
       "4070      -0.476924  -1.115135        1.473547        -1.011167  \n",
       "4071       1.087972   0.896752       -0.678635        -0.132018  \n",
       "\n",
       "[4072 rows x 10 columns]"
      ]
     },
     "execution_count": 12,
     "metadata": {},
     "output_type": "execute_result"
    }
   ],
   "source": [
    "X\n"
   ]
  },
  {
   "cell_type": "markdown",
   "id": "5f073fa4",
   "metadata": {},
   "source": [
    "#### Elbow Method"
   ]
  },
  {
   "cell_type": "code",
   "execution_count": 13,
   "id": "3515de67",
   "metadata": {},
   "outputs": [
    {
     "data": {
      "image/png": "[encoded data removed]",
      "text/plain": [
       "<Figure size 1224x576 with 2 Axes>"
      ]
     },
     "metadata": {},
     "output_type": "display_data"
    },
    {
     "data": {
      "text/plain": [
       "<Figure size 576x396 with 0 Axes>"
      ]
     },
     "metadata": {},
     "output_type": "display_data"
    }
   ],
   "source": [
    "f, ax = plt.subplots(figsize=(17, 8))\n",
    "model = KElbowVisualizer(KMeans(), k=10)\n",
    "model.fit(X)\n",
    "model.show()\n",
    "plt.show()\n",
    "\n",
    "plt.savefig(r'C:\\Users\\Ingrid\\Desktop\\DAFT Nov 21\\Projects\\Final project\\Elbow_method.png')"
   ]
  },
  {
   "cell_type": "markdown",
   "id": "435f6258",
   "metadata": {},
   "source": [
    "Comment: According to the Elbow method, the optimum number of clusters is 5."
   ]
  },
  {
   "cell_type": "code",
   "execution_count": 14,
   "id": "ac365ad2",
   "metadata": {},
   "outputs": [
    {
     "name": "stdout",
     "output_type": "stream",
     "text": [
      "Silhouette score for KMeans is:  0.10521524673759539\n"
     ]
    }
   ],
   "source": [
    "# We implement the model with the optimum k = 5\n",
    "kmeans = KMeans(n_clusters=5)\n",
    "\n",
    "# We fit our model\n",
    "kmeans.fit(X)\n",
    "\n",
    "# Our prediction\n",
    "y_kmeans = kmeans.predict(X)\n"
   ]
  },
  {
   "cell_type": "code",
   "execution_count": 15,
   "id": "fb162770",
   "metadata": {},
   "outputs": [
    {
     "data": {
      "text/plain": [
       "Index(['CreditScore', 'Geography', 'Gender', 'Age', 'Tenure', 'Balance',\n",
       "       'NumOfProducts', 'HasCrCard', 'IsActiveMember', 'EstimatedSalary'],\n",
       "      dtype='object')"
      ]
     },
     "execution_count": 15,
     "metadata": {},
     "output_type": "execute_result"
    }
   ],
   "source": [
    "X.columns"
   ]
  },
  {
   "cell_type": "code",
   "execution_count": 16,
   "id": "755cc3f2",
   "metadata": {},
   "outputs": [],
   "source": [
    "X['label']=kmeans.labels_"
   ]
  },
  {
   "cell_type": "code",
   "execution_count": 17,
   "id": "cb5b412e",
   "metadata": {},
   "outputs": [
    {
     "data": {
      "text/html": [
       "<div>\n",
       "<style scoped>\n",
       "    .dataframe tbody tr th:only-of-type {\n",
       "        vertical-align: middle;\n",
       "    }\n",
       "\n",
       "    .dataframe tbody tr th {\n",
       "        vertical-align: top;\n",
       "    }\n",
       "\n",
       "    .dataframe thead th {\n",
       "        text-align: right;\n",
       "    }\n",
       "</style>\n",
       "<table border=\"1\" class=\"dataframe\">\n",
       "  <thead>\n",
       "    <tr style=\"text-align: right;\">\n",
       "      <th></th>\n",
       "      <th>CreditScore</th>\n",
       "      <th>Geography</th>\n",
       "      <th>Gender</th>\n",
       "      <th>Age</th>\n",
       "      <th>Tenure</th>\n",
       "      <th>Balance</th>\n",
       "      <th>NumOfProducts</th>\n",
       "      <th>HasCrCard</th>\n",
       "      <th>IsActiveMember</th>\n",
       "      <th>EstimatedSalary</th>\n",
       "      <th>label</th>\n",
       "    </tr>\n",
       "  </thead>\n",
       "  <tbody>\n",
       "    <tr>\n",
       "      <th>0</th>\n",
       "      <td>0.873430</td>\n",
       "      <td>-0.919066</td>\n",
       "      <td>-0.757242</td>\n",
       "      <td>-0.864981</td>\n",
       "      <td>-0.724380</td>\n",
       "      <td>-0.434878</td>\n",
       "      <td>-0.476924</td>\n",
       "      <td>-1.115135</td>\n",
       "      <td>-0.678635</td>\n",
       "      <td>1.279125</td>\n",
       "      <td>1</td>\n",
       "    </tr>\n",
       "    <tr>\n",
       "      <th>1</th>\n",
       "      <td>1.774153</td>\n",
       "      <td>-0.919066</td>\n",
       "      <td>-0.757242</td>\n",
       "      <td>-0.971772</td>\n",
       "      <td>-0.327918</td>\n",
       "      <td>-0.474502</td>\n",
       "      <td>-0.476924</td>\n",
       "      <td>0.896752</td>\n",
       "      <td>1.473547</td>\n",
       "      <td>-1.083625</td>\n",
       "      <td>4</td>\n",
       "    </tr>\n",
       "    <tr>\n",
       "      <th>2</th>\n",
       "      <td>-0.389923</td>\n",
       "      <td>-0.919066</td>\n",
       "      <td>-0.757242</td>\n",
       "      <td>-0.544606</td>\n",
       "      <td>0.068543</td>\n",
       "      <td>-1.873634</td>\n",
       "      <td>-0.476924</td>\n",
       "      <td>-1.115135</td>\n",
       "      <td>-0.678635</td>\n",
       "      <td>0.678303</td>\n",
       "      <td>1</td>\n",
       "    </tr>\n",
       "    <tr>\n",
       "      <th>3</th>\n",
       "      <td>-0.928017</td>\n",
       "      <td>0.504997</td>\n",
       "      <td>-0.757242</td>\n",
       "      <td>-0.544606</td>\n",
       "      <td>0.068543</td>\n",
       "      <td>0.771459</td>\n",
       "      <td>1.087972</td>\n",
       "      <td>0.896752</td>\n",
       "      <td>1.473547</td>\n",
       "      <td>0.174992</td>\n",
       "      <td>4</td>\n",
       "    </tr>\n",
       "    <tr>\n",
       "      <th>4</th>\n",
       "      <td>-0.202759</td>\n",
       "      <td>-0.919066</td>\n",
       "      <td>-0.757242</td>\n",
       "      <td>-0.544606</td>\n",
       "      <td>0.465005</td>\n",
       "      <td>-1.873634</td>\n",
       "      <td>-0.476924</td>\n",
       "      <td>-1.115135</td>\n",
       "      <td>-0.678635</td>\n",
       "      <td>-0.452760</td>\n",
       "      <td>1</td>\n",
       "    </tr>\n",
       "  </tbody>\n",
       "</table>\n",
       "</div>"
      ],
      "text/plain": [
       "   CreditScore  Geography    Gender       Age    Tenure   Balance  \\\n",
       "0     0.873430  -0.919066 -0.757242 -0.864981 -0.724380 -0.434878   \n",
       "1     1.774153  -0.919066 -0.757242 -0.971772 -0.327918 -0.474502   \n",
       "2    -0.389923  -0.919066 -0.757242 -0.544606  0.068543 -1.873634   \n",
       "3    -0.928017   0.504997 -0.757242 -0.544606  0.068543  0.771459   \n",
       "4    -0.202759  -0.919066 -0.757242 -0.544606  0.465005 -1.873634   \n",
       "\n",
       "   NumOfProducts  HasCrCard  IsActiveMember  EstimatedSalary  label  \n",
       "0      -0.476924  -1.115135       -0.678635         1.279125      1  \n",
       "1      -0.476924   0.896752        1.473547        -1.083625      4  \n",
       "2      -0.476924  -1.115135       -0.678635         0.678303      1  \n",
       "3       1.087972   0.896752        1.473547         0.174992      4  \n",
       "4      -0.476924  -1.115135       -0.678635        -0.452760      1  "
      ]
     },
     "execution_count": 17,
     "metadata": {},
     "output_type": "execute_result"
    }
   ],
   "source": [
    "X.head()"
   ]
  },
  {
   "cell_type": "code",
   "execution_count": 18,
   "id": "8b9b0c6a",
   "metadata": {},
   "outputs": [
    {
     "data": {
      "text/plain": [
       "4    1167\n",
       "1     967\n",
       "0     862\n",
       "3     795\n",
       "2     281\n",
       "Name: label, dtype: int64"
      ]
     },
     "execution_count": 18,
     "metadata": {},
     "output_type": "execute_result"
    }
   ],
   "source": [
    "# Count the values in labels\n",
    "X['label'].value_counts()"
   ]
  },
  {
   "cell_type": "code",
   "execution_count": 23,
   "id": "226b9d7f",
   "metadata": {},
   "outputs": [
    {
     "name": "stdout",
     "output_type": "stream",
     "text": [
      "Silhouette score for KMeans is:  0.19090732900225457\n"
     ]
    }
   ],
   "source": [
    "# we need to import a module for the Silhouette score: from sklearn.metrics import silhouette_score\n",
    "print('Silhouette score for KMeans is: ', silhouette_score(X, y_kmeans))"
   ]
  },
  {
   "cell_type": "markdown",
   "id": "f3259fa7",
   "metadata": {},
   "source": [
    "Comment: The silhouette score is very low so we can try a new model like DBSCAN."
   ]
  },
  {
   "cell_type": "markdown",
   "id": "b4d59741",
   "metadata": {},
   "source": [
    "# DBSCAN"
   ]
  },
  {
   "cell_type": "code",
   "execution_count": 28,
   "id": "4d73344d",
   "metadata": {},
   "outputs": [
    {
     "data": {
      "text/plain": [
       "DBSCAN()"
      ]
     },
     "execution_count": 28,
     "metadata": {},
     "output_type": "execute_result"
    }
   ],
   "source": [
    "dbscan_cluster = DBSCAN(eps=0.5)\n",
    "dbscan_cluster.fit(customers_scale)"
   ]
  },
  {
   "cell_type": "code",
   "execution_count": 29,
   "id": "481cb186",
   "metadata": {},
   "outputs": [],
   "source": [
    "X['labels_DBSCAN'] = dbscan_cluster.labels_"
   ]
  },
  {
   "cell_type": "code",
   "execution_count": 30,
   "id": "b723b5aa",
   "metadata": {},
   "outputs": [
    {
     "data": {
      "text/html": [
       "<div>\n",
       "<style scoped>\n",
       "    .dataframe tbody tr th:only-of-type {\n",
       "        vertical-align: middle;\n",
       "    }\n",
       "\n",
       "    .dataframe tbody tr th {\n",
       "        vertical-align: top;\n",
       "    }\n",
       "\n",
       "    .dataframe thead th {\n",
       "        text-align: right;\n",
       "    }\n",
       "</style>\n",
       "<table border=\"1\" class=\"dataframe\">\n",
       "  <thead>\n",
       "    <tr style=\"text-align: right;\">\n",
       "      <th></th>\n",
       "      <th>CreditScore</th>\n",
       "      <th>Geography</th>\n",
       "      <th>Gender</th>\n",
       "      <th>Age</th>\n",
       "      <th>Tenure</th>\n",
       "      <th>Balance</th>\n",
       "      <th>NumOfProducts</th>\n",
       "      <th>HasCrCard</th>\n",
       "      <th>IsActiveMember</th>\n",
       "      <th>EstimatedSalary</th>\n",
       "      <th>label</th>\n",
       "      <th>labels_DBSCAN</th>\n",
       "    </tr>\n",
       "  </thead>\n",
       "  <tbody>\n",
       "    <tr>\n",
       "      <th>0</th>\n",
       "      <td>0.873430</td>\n",
       "      <td>-0.919066</td>\n",
       "      <td>-0.757242</td>\n",
       "      <td>-0.864981</td>\n",
       "      <td>-0.724380</td>\n",
       "      <td>-0.434878</td>\n",
       "      <td>-0.476924</td>\n",
       "      <td>-1.115135</td>\n",
       "      <td>-0.678635</td>\n",
       "      <td>1.279125</td>\n",
       "      <td>1</td>\n",
       "      <td>-1</td>\n",
       "    </tr>\n",
       "    <tr>\n",
       "      <th>1</th>\n",
       "      <td>1.774153</td>\n",
       "      <td>-0.919066</td>\n",
       "      <td>-0.757242</td>\n",
       "      <td>-0.971772</td>\n",
       "      <td>-0.327918</td>\n",
       "      <td>-0.474502</td>\n",
       "      <td>-0.476924</td>\n",
       "      <td>0.896752</td>\n",
       "      <td>1.473547</td>\n",
       "      <td>-1.083625</td>\n",
       "      <td>4</td>\n",
       "      <td>-1</td>\n",
       "    </tr>\n",
       "    <tr>\n",
       "      <th>2</th>\n",
       "      <td>-0.389923</td>\n",
       "      <td>-0.919066</td>\n",
       "      <td>-0.757242</td>\n",
       "      <td>-0.544606</td>\n",
       "      <td>0.068543</td>\n",
       "      <td>-1.873634</td>\n",
       "      <td>-0.476924</td>\n",
       "      <td>-1.115135</td>\n",
       "      <td>-0.678635</td>\n",
       "      <td>0.678303</td>\n",
       "      <td>1</td>\n",
       "      <td>0</td>\n",
       "    </tr>\n",
       "    <tr>\n",
       "      <th>3</th>\n",
       "      <td>-0.928017</td>\n",
       "      <td>0.504997</td>\n",
       "      <td>-0.757242</td>\n",
       "      <td>-0.544606</td>\n",
       "      <td>0.068543</td>\n",
       "      <td>0.771459</td>\n",
       "      <td>1.087972</td>\n",
       "      <td>0.896752</td>\n",
       "      <td>1.473547</td>\n",
       "      <td>0.174992</td>\n",
       "      <td>4</td>\n",
       "      <td>-1</td>\n",
       "    </tr>\n",
       "    <tr>\n",
       "      <th>4</th>\n",
       "      <td>-0.202759</td>\n",
       "      <td>-0.919066</td>\n",
       "      <td>-0.757242</td>\n",
       "      <td>-0.544606</td>\n",
       "      <td>0.465005</td>\n",
       "      <td>-1.873634</td>\n",
       "      <td>-0.476924</td>\n",
       "      <td>-1.115135</td>\n",
       "      <td>-0.678635</td>\n",
       "      <td>-0.452760</td>\n",
       "      <td>1</td>\n",
       "      <td>0</td>\n",
       "    </tr>\n",
       "    <tr>\n",
       "      <th>...</th>\n",
       "      <td>...</td>\n",
       "      <td>...</td>\n",
       "      <td>...</td>\n",
       "      <td>...</td>\n",
       "      <td>...</td>\n",
       "      <td>...</td>\n",
       "      <td>...</td>\n",
       "      <td>...</td>\n",
       "      <td>...</td>\n",
       "      <td>...</td>\n",
       "      <td>...</td>\n",
       "      <td>...</td>\n",
       "    </tr>\n",
       "    <tr>\n",
       "      <th>4067</th>\n",
       "      <td>-1.770252</td>\n",
       "      <td>0.504997</td>\n",
       "      <td>1.320581</td>\n",
       "      <td>0.096144</td>\n",
       "      <td>-0.724380</td>\n",
       "      <td>0.956247</td>\n",
       "      <td>-0.476924</td>\n",
       "      <td>0.896752</td>\n",
       "      <td>1.473547</td>\n",
       "      <td>-0.814588</td>\n",
       "      <td>4</td>\n",
       "      <td>-1</td>\n",
       "    </tr>\n",
       "    <tr>\n",
       "      <th>4068</th>\n",
       "      <td>0.066288</td>\n",
       "      <td>0.504997</td>\n",
       "      <td>-0.757242</td>\n",
       "      <td>0.523310</td>\n",
       "      <td>0.861467</td>\n",
       "      <td>0.679018</td>\n",
       "      <td>-0.476924</td>\n",
       "      <td>0.896752</td>\n",
       "      <td>-0.678635</td>\n",
       "      <td>0.253157</td>\n",
       "      <td>3</td>\n",
       "      <td>-1</td>\n",
       "    </tr>\n",
       "    <tr>\n",
       "      <th>4069</th>\n",
       "      <td>-0.612179</td>\n",
       "      <td>-0.919066</td>\n",
       "      <td>-0.757242</td>\n",
       "      <td>1.270852</td>\n",
       "      <td>-0.327918</td>\n",
       "      <td>-0.228614</td>\n",
       "      <td>-0.476924</td>\n",
       "      <td>0.896752</td>\n",
       "      <td>-0.678635</td>\n",
       "      <td>-0.538753</td>\n",
       "      <td>3</td>\n",
       "      <td>-1</td>\n",
       "    </tr>\n",
       "    <tr>\n",
       "      <th>4070</th>\n",
       "      <td>0.697964</td>\n",
       "      <td>-0.919066</td>\n",
       "      <td>-0.757242</td>\n",
       "      <td>-0.544606</td>\n",
       "      <td>0.861467</td>\n",
       "      <td>-1.873634</td>\n",
       "      <td>-0.476924</td>\n",
       "      <td>-1.115135</td>\n",
       "      <td>1.473547</td>\n",
       "      <td>-1.011167</td>\n",
       "      <td>4</td>\n",
       "      <td>-1</td>\n",
       "    </tr>\n",
       "    <tr>\n",
       "      <th>4071</th>\n",
       "      <td>1.434920</td>\n",
       "      <td>0.504997</td>\n",
       "      <td>1.320581</td>\n",
       "      <td>0.096144</td>\n",
       "      <td>-0.724380</td>\n",
       "      <td>-0.476274</td>\n",
       "      <td>1.087972</td>\n",
       "      <td>0.896752</td>\n",
       "      <td>-0.678635</td>\n",
       "      <td>-0.132018</td>\n",
       "      <td>0</td>\n",
       "      <td>-1</td>\n",
       "    </tr>\n",
       "  </tbody>\n",
       "</table>\n",
       "<p>4072 rows × 12 columns</p>\n",
       "</div>"
      ],
      "text/plain": [
       "      CreditScore  Geography    Gender       Age    Tenure   Balance  \\\n",
       "0        0.873430  -0.919066 -0.757242 -0.864981 -0.724380 -0.434878   \n",
       "1        1.774153  -0.919066 -0.757242 -0.971772 -0.327918 -0.474502   \n",
       "2       -0.389923  -0.919066 -0.757242 -0.544606  0.068543 -1.873634   \n",
       "3       -0.928017   0.504997 -0.757242 -0.544606  0.068543  0.771459   \n",
       "4       -0.202759  -0.919066 -0.757242 -0.544606  0.465005 -1.873634   \n",
       "...           ...        ...       ...       ...       ...       ...   \n",
       "4067    -1.770252   0.504997  1.320581  0.096144 -0.724380  0.956247   \n",
       "4068     0.066288   0.504997 -0.757242  0.523310  0.861467  0.679018   \n",
       "4069    -0.612179  -0.919066 -0.757242  1.270852 -0.327918 -0.228614   \n",
       "4070     0.697964  -0.919066 -0.757242 -0.544606  0.861467 -1.873634   \n",
       "4071     1.434920   0.504997  1.320581  0.096144 -0.724380 -0.476274   \n",
       "\n",
       "      NumOfProducts  HasCrCard  IsActiveMember  EstimatedSalary  label  \\\n",
       "0         -0.476924  -1.115135       -0.678635         1.279125      1   \n",
       "1         -0.476924   0.896752        1.473547        -1.083625      4   \n",
       "2         -0.476924  -1.115135       -0.678635         0.678303      1   \n",
       "3          1.087972   0.896752        1.473547         0.174992      4   \n",
       "4         -0.476924  -1.115135       -0.678635        -0.452760      1   \n",
       "...             ...        ...             ...              ...    ...   \n",
       "4067      -0.476924   0.896752        1.473547        -0.814588      4   \n",
       "4068      -0.476924   0.896752       -0.678635         0.253157      3   \n",
       "4069      -0.476924   0.896752       -0.678635        -0.538753      3   \n",
       "4070      -0.476924  -1.115135        1.473547        -1.011167      4   \n",
       "4071       1.087972   0.896752       -0.678635        -0.132018      0   \n",
       "\n",
       "      labels_DBSCAN  \n",
       "0                -1  \n",
       "1                -1  \n",
       "2                 0  \n",
       "3                -1  \n",
       "4                 0  \n",
       "...             ...  \n",
       "4067             -1  \n",
       "4068             -1  \n",
       "4069             -1  \n",
       "4070             -1  \n",
       "4071             -1  \n",
       "\n",
       "[4072 rows x 12 columns]"
      ]
     },
     "execution_count": 30,
     "metadata": {},
     "output_type": "execute_result"
    }
   ],
   "source": [
    "X"
   ]
  },
  {
   "cell_type": "code",
   "execution_count": 32,
   "id": "e784d816",
   "metadata": {},
   "outputs": [
    {
     "data": {
      "text/plain": [
       "-1     3879\n",
       " 0      125\n",
       " 2       17\n",
       " 4        8\n",
       " 3        7\n",
       " 6        6\n",
       " 7        6\n",
       " 8        5\n",
       " 10       5\n",
       " 1        5\n",
       " 9        5\n",
       " 5        4\n",
       "Name: labels_DBSCAN, dtype: int64"
      ]
     },
     "execution_count": 32,
     "metadata": {},
     "output_type": "execute_result"
    }
   ],
   "source": [
    "# Count the values in labels_DBSCAN\n",
    "X['labels_DBSCAN'].value_counts()"
   ]
  },
  {
   "cell_type": "code",
   "execution_count": 64,
   "id": "276f4776",
   "metadata": {},
   "outputs": [
    {
     "name": "stdout",
     "output_type": "stream",
     "text": [
      "-1    3971\n",
      " 0      93\n",
      " 2       4\n",
      " 1       4\n",
      "Name: labels_db1, dtype: int64\n"
     ]
    }
   ],
   "source": [
    "db1 = DBSCAN(eps=0.4, min_samples=4)\n",
    "db1.fit(X)\n",
    "X['labels_db1'] = db1.labels_\n",
    "print(X['labels_db1'].value_counts())\n",
    "\n"
   ]
  },
  {
   "cell_type": "code",
   "execution_count": 65,
   "id": "57238b15",
   "metadata": {},
   "outputs": [
    {
     "data": {
      "text/plain": [
       "-0.02239358928176987"
      ]
     },
     "execution_count": 65,
     "metadata": {},
     "output_type": "execute_result"
    }
   ],
   "source": [
    "db1_silhouette = silhouette_score(X, db1.labels_)\n",
    "db1_silhouette"
   ]
  },
  {
   "cell_type": "code",
   "execution_count": 69,
   "id": "4a264fc0",
   "metadata": {},
   "outputs": [
    {
     "name": "stdout",
     "output_type": "stream",
     "text": [
      "-1    3971\n",
      " 0      93\n",
      " 2       4\n",
      " 1       4\n",
      "Name: labels_db2, dtype: int64\n"
     ]
    },
    {
     "data": {
      "text/plain": [
       "-0.3023986377202901"
      ]
     },
     "execution_count": 69,
     "metadata": {},
     "output_type": "execute_result"
    }
   ],
   "source": [
    "db2 = DBSCAN(eps=0.6, min_samples=5)\n",
    "db2.fit(X)\n",
    "X['labels_db2'] = db1.labels_\n",
    "print(X['labels_db2'].value_counts())\n",
    "\n",
    "db2_silhouette = silhouette_score(X, db2.labels_)\n",
    "db2_silhouette"
   ]
  },
  {
   "cell_type": "code",
   "execution_count": 70,
   "id": "c68a1c3e",
   "metadata": {},
   "outputs": [
    {
     "name": "stdout",
     "output_type": "stream",
     "text": [
      "-1     3778\n",
      " 0       93\n",
      " 7       20\n",
      " 6       14\n",
      " 4       13\n",
      " 8       12\n",
      " 3       12\n",
      " 12      11\n",
      " 18      10\n",
      " 16       8\n",
      " 5        8\n",
      " 9        7\n",
      " 2        6\n",
      " 11       6\n",
      " 24       6\n",
      " 19       6\n",
      " 20       6\n",
      " 14       6\n",
      " 15       5\n",
      " 21       5\n",
      " 23       5\n",
      " 17       5\n",
      " 1        5\n",
      " 13       5\n",
      " 26       5\n",
      " 22       5\n",
      " 10       5\n",
      " 25       5\n",
      "Name: labels_db3, dtype: int64\n"
     ]
    },
    {
     "data": {
      "text/plain": [
       "0.03476227774795967"
      ]
     },
     "execution_count": 70,
     "metadata": {},
     "output_type": "execute_result"
    }
   ],
   "source": [
    "db3 = DBSCAN(eps=0.6, min_samples=5)\n",
    "db3.fit(X)\n",
    "X['labels_db3'] = db3.labels_\n",
    "print(X['labels_db3'].value_counts())\n",
    "\n",
    "db3_silhouette = silhouette_score(X, db3.labels_)\n",
    "db3_silhouette"
   ]
  },
  {
   "cell_type": "code",
   "execution_count": 75,
   "id": "0cc3ec24",
   "metadata": {},
   "outputs": [
    {
     "name": "stdout",
     "output_type": "stream",
     "text": [
      "-1     3714\n",
      " 0       93\n",
      " 9       11\n",
      " 30       9\n",
      " 14       9\n",
      " 25       8\n",
      " 12       8\n",
      " 7        8\n",
      " 23       8\n",
      " 11       6\n",
      " 5        6\n",
      " 40       6\n",
      " 36       6\n",
      " 32       6\n",
      " 4        6\n",
      " 10       6\n",
      " 24       6\n",
      " 22       6\n",
      " 18       6\n",
      " 47       6\n",
      " 50       5\n",
      " 16       5\n",
      " 31       5\n",
      " 33       5\n",
      " 2        5\n",
      " 48       5\n",
      " 35       5\n",
      " 42       5\n",
      " 17       5\n",
      " 46       5\n",
      " 29       4\n",
      " 27       4\n",
      " 41       4\n",
      " 43       4\n",
      " 45       4\n",
      " 39       4\n",
      " 37       4\n",
      " 1        4\n",
      " 21       4\n",
      " 19       4\n",
      " 15       4\n",
      " 13       4\n",
      " 3        4\n",
      " 6        4\n",
      " 44       4\n",
      " 38       4\n",
      " 34       4\n",
      " 28       4\n",
      " 26       4\n",
      " 20       4\n",
      " 8        4\n",
      " 49       4\n",
      "Name: labels_db4, dtype: int64\n"
     ]
    },
    {
     "data": {
      "text/plain": [
       "0.09801409092084035"
      ]
     },
     "execution_count": 75,
     "metadata": {},
     "output_type": "execute_result"
    }
   ],
   "source": [
    "db4 = DBSCAN(eps=0.6, min_samples=4)\n",
    "db4.fit(X)\n",
    "X['labels_db4'] = db4.labels_\n",
    "print(X['labels_db4'].value_counts())\n",
    "\n",
    "db4_silhouette = silhouette_score(X, db4.labels_)\n",
    "db4_silhouette"
   ]
  },
  {
   "cell_type": "code",
   "execution_count": 76,
   "id": "458a40b4",
   "metadata": {},
   "outputs": [
    {
     "name": "stdout",
     "output_type": "stream",
     "text": [
      "-1      3536\n",
      " 1        93\n",
      " 15       11\n",
      " 23        9\n",
      " 54        9\n",
      "        ... \n",
      " 102       3\n",
      " 104       3\n",
      " 21        3\n",
      " 33        3\n",
      " 105       3\n",
      "Name: labels_db4, Length: 107, dtype: int64\n"
     ]
    },
    {
     "data": {
      "text/plain": [
       "0.17451303887693748"
      ]
     },
     "execution_count": 76,
     "metadata": {},
     "output_type": "execute_result"
    }
   ],
   "source": [
    "db5 = DBSCAN(eps=0.6, min_samples=3)\n",
    "db5.fit(X)\n",
    "X['labels_db4'] = db5.labels_\n",
    "print(X['labels_db4'].value_counts())\n",
    "\n",
    "db5_silhouette = silhouette_score(X, db5.labels_)\n",
    "db5_silhouette"
   ]
  },
  {
   "cell_type": "code",
   "execution_count": 78,
   "id": "59b03bf1",
   "metadata": {},
   "outputs": [
    {
     "name": "stdout",
     "output_type": "stream",
     "text": [
      "-1     4021\n",
      " 2        4\n",
      " 1        4\n",
      " 7        4\n",
      " 9        4\n",
      " 11       4\n",
      " 13       4\n",
      " 0        3\n",
      " 4        3\n",
      " 6        3\n",
      " 8        3\n",
      " 10       3\n",
      " 12       3\n",
      " 14       3\n",
      " 3        3\n",
      " 5        3\n",
      "Name: labels_db4, dtype: int64\n"
     ]
    },
    {
     "data": {
      "text/plain": [
       "-0.05215899253183441"
      ]
     },
     "execution_count": 78,
     "metadata": {},
     "output_type": "execute_result"
    }
   ],
   "source": [
    "db6 = DBSCAN(eps=0.3, min_samples=3)\n",
    "db6.fit(X)\n",
    "X['labels_db4'] = db6.labels_\n",
    "print(X['labels_db4'].value_counts())\n",
    "\n",
    "db6_silhouette = silhouette_score(X, db6.labels_)\n",
    "db6_silhouette"
   ]
  },
  {
   "cell_type": "code",
   "execution_count": 81,
   "id": "0bb04234",
   "metadata": {},
   "outputs": [
    {
     "name": "stdout",
     "output_type": "stream",
     "text": [
      "-1    3984\n",
      " 0      49\n",
      " 1      39\n",
      "Name: labels_db4, dtype: int64\n"
     ]
    },
    {
     "data": {
      "text/plain": [
       "-0.044184285875117246"
      ]
     },
     "execution_count": 81,
     "metadata": {},
     "output_type": "execute_result"
    }
   ],
   "source": [
    "db7 = DBSCAN(eps=0.5, min_samples=10)\n",
    "db7.fit(X)\n",
    "X['labels_db4'] = db7.labels_\n",
    "print(X['labels_db4'].value_counts())\n",
    "\n",
    "db7_silhouette = silhouette_score(X, db7.labels_)\n",
    "db7_silhouette"
   ]
  },
  {
   "cell_type": "markdown",
   "id": "19feed62",
   "metadata": {},
   "source": [
    "#### Conclusion"
   ]
  },
  {
   "cell_type": "markdown",
   "id": "327a8217",
   "metadata": {},
   "source": [
    "KMeans and DBSCAN have really poor silhouette scores. We can say that supervised models learning is better to resolve this case."
   ]
  }
 ],
 "metadata": {
  "kernelspec": {
   "display_name": "Python 3",
   "language": "python",
   "name": "python3"
  },
  "language_info": {
   "codemirror_mode": {
    "name": "ipython",
    "version": 3
   },
   "file_extension": ".py",
   "mimetype": "text/x-python",
   "name": "python",
   "nbconvert_exporter": "python",
   "pygments_lexer": "ipython3",
   "version": "3.8.8"
  }
 },
 "nbformat": 4,
 "nbformat_minor": 5
}
