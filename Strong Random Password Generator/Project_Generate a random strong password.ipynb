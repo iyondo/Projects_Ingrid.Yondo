{
 "cells": [
  {
   "cell_type": "raw",
   "id": "0a56a49e",
   "metadata": {},
   "source": [
    "Python program to generate a random strong password:\n",
    "\n",
    "- Minimum length 6 characters.\n",
    "\n",
    "- Maximum length 16 characters.\n",
    "\n",
    "- At least 1 letter between [a-z] and 1 letter between [A-Z].\n",
    "\n",
    "- At least 1 number between [0-9].\n",
    "\n",
    "- At least 1 character from [$#@]."
   ]
  },
  {
   "cell_type": "code",
   "execution_count": 4,
   "id": "058bdb10",
   "metadata": {},
   "outputs": [
    {
     "name": "stdout",
     "output_type": "stream",
     "text": [
      "#MtDUIEt8\n"
     ]
    }
   ],
   "source": [
    "# Import Librairies\n",
    "import random\n",
    "import string\n",
    "\n",
    "# code\n",
    "length = random.randrange(2,12)\n",
    "\n",
    "lower = string.ascii_lowercase \n",
    "\n",
    "upper = string.ascii_uppercase \n",
    "\n",
    "number = string.digits \n",
    "\n",
    "special_char = \"@#$\" \n",
    "\n",
    "all = lower + upper + number + special_char \n",
    "\n",
    "sample = \"\".join(random.sample(all,length)) \n",
    "\n",
    "char_list = [random.choice(special_char),\n",
    "            random.choice(lower),\n",
    "            random.choice(upper),\n",
    "            random.choice(number),\n",
    "            sample]\n",
    "\n",
    "random.shuffle(char_list) \n",
    "\n",
    "password = ''.join(char_list) \n",
    "\n",
    "print(password)"
   ]
  }
 ],
 "metadata": {
  "kernelspec": {
   "display_name": "Python 3",
   "language": "python",
   "name": "python3"
  },
  "language_info": {
   "codemirror_mode": {
    "name": "ipython",
    "version": 3
   },
   "file_extension": ".py",
   "mimetype": "text/x-python",
   "name": "python",
   "nbconvert_exporter": "python",
   "pygments_lexer": "ipython3",
   "version": "3.8.8"
  }
 },
 "nbformat": 4,
 "nbformat_minor": 5
}
